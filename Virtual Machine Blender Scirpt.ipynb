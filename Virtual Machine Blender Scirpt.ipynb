{
 "cells": [
  {
   "cell_type": "code",
   "execution_count": null,
   "metadata": {
    "id": "h7sezB8rZqc0"
   },
   "outputs": [],
   "source": [
    "import psutil\n",
    "def get_size(bytes, suffix=\"B\"):\n",
    "    factor = 1024\n",
    "    for unit in [\"\", \"K\", \"M\", \"G\", \"T\", \"P\"]:\n",
    "        if bytes < factor:\n",
    "            return f\"{bytes:.2f}{unit}{suffix}\"\n",
    "        bytes /= factor\n",
    "print(\"=\"*40, \"Memory Information\", \"=\"*40)\n",
    "svmem = psutil.virtual_memory()\n",
    "print(f\"Total: {get_size(svmem.total)}\") ; print(f\"Available: {get_size(svmem.available)}\")\n",
    "print(f\"Used: {get_size(svmem.used)}\") ; print(f\"Percentage: {svmem.percent}%\")"
   ]
  },
  {
   "cell_type": "code",
   "execution_count": null,
   "metadata": {},
   "outputs": [],
   "source": [
    "!nvidia-smi"
   ]
  },
  {
   "cell_type": "code",
   "execution_count": null,
   "metadata": {
    "id": "eD0RreK3aP_I"
   },
   "outputs": [],
   "source": [
    "#@title Select Blender Version (used for rendering) then execute the cell{ display-mode: \"form\" }\n",
    "Blender_Version = 'Blender 4.2' #@param [\"Blender 4.1\", \"Blender 4.0\", \"Blender 3.6\", \"Blender 3.5\", \"Blender 3.4\", \"Blender 3.3\", \"Blender 3.2\", \"Blender 3.1\", \"Blender 3.0\", \"Blender 2.93\", \"Blender 2.92\", \"Blender 2.91\", \"Blender 2.90\", \"Blender 2.90alpha (expiremental)\", \"Blender 2.83.3\", \"Blender 2.83.0\", \"Blender 2.82a\", \"Blender 2.81\", \"Blender 2.80\", \"Blender 2.79b\"]\n",
    "\n",
    "def path_leaf(path):\n",
    "  import ntpath\n",
    "  head, tail = ntpath.split(path)\n",
    "  return tail or ntpath.basename(head)\n",
    "\n",
    "dl_link = {\n",
    "   \"Blender 2.79b\": \"https://download.blender.org/release/Blender2.79/blender-2.79b-linux-glibc219-x86_64.tar.bz2\",\n",
    "    \"Blender 2.80\": \"https://download.blender.org/release/Blender2.80/blender-2.80-linux-glibc217-x86_64.tar.bz2\",\n",
    "    \"Blender 2.81\": \"https://download.blender.org/release/Blender2.81/blender-2.81-linux-glibc217-x86_64.tar.bz2\",\n",
    "    \"Blender 2.82a\": \"https://download.blender.org/release/Blender2.82/blender-2.82a-linux64.tar.xz\",\n",
    "    \"Blender 2.83.0\": \"https://download.blender.org/release/Blender2.83/blender-2.83.0-linux64.tar.xz\",\n",
    "    \"Blender 2.83.3\": \"https://download.blender.org/release/Blender2.83/blender-2.83.3-linux64.tar.xz\",\n",
    "    \"Blender 2.90alpha (expiremental)\": \"https://blender.community/5edccfe69c122126f183e2ad/download/5ef635439c12214ca244be6b\",\n",
    "    \"Blender 2.90\" : \"https://ftp.halifax.rwth-aachen.de/blender/release/Blender2.90/blender-2.90.0-linux64.tar.xz\",\n",
    "    \"Blender 2.91\" : \"https://ftp.halifax.rwth-aachen.de/blender/release/Blender2.91/blender-2.91.0-linux64.tar.xz\",\n",
    "    \"Blender 2.92\" : \"https://ftp.halifax.rwth-aachen.de/blender/release/Blender2.92/blender-2.92.0-linux64.tar.xz\",\n",
    "    \"Blender 2.93\" : \"https://ftp.halifax.rwth-aachen.de/blender/release/Blender2.93/blender-2.93.0-linux64.tar.xz\",\n",
    "    \"Blender 3.0\" : \"https://ftp.halifax.rwth-aachen.de/blender/release/Blender3.0/blender-3.0.0-linux-x64.tar.xz\",\n",
    "    \"Blender 3.1\" : \"https://ftp.halifax.rwth-aachen.de/blender/release/Blender3.1/blender-3.1.0-linux-x64.tar.xz\",\n",
    "    \"Blender 3.2\" : \"https://ftp.halifax.rwth-aachen.de/blender/release/Blender3.2/blender-3.2.0-linux-x64.tar.xz\",\n",
    "    \"Blender 3.3\" : \"https://ftp.halifax.rwth-aachen.de/blender/release/Blender3.3/blender-3.3.0-linux-x64.tar.xz\",\n",
    "    \"Blender 3.4\" : \"https://ftp.halifax.rwth-aachen.de/blender/release/Blender3.4/blender-3.4.0-linux-x64.tar.xz\",\n",
    "    \"Blender 3.5\" : \"https://ftp.halifax.rwth-aachen.de/blender/release/Blender3.5/blender-3.5.0-linux-x64.tar.xz\",\n",
    "    \"Blender 3.6\" : \"https://ftp.halifax.rwth-aachen.de/blender/release/Blender3.6/blender-3.6.0-linux-x64.tar.xz\",\n",
    "    \"Blender 4.0\" : \"https://ftp.halifax.rwth-aachen.de/blender/release/Blender4.0/blender-4.0.1-linux-x64.tar.xz\",\n",
    "    \"Blender 4.1\" : \"https://ftp.halifax.rwth-aachen.de/blender/release/Blender4.1/blender-4.1.0-linux-x64.tar.xz\",\n",
    "    \"Blender 4.2\" : \"https://ftp.halifax.rwth-aachen.de/blender/release/Blender4.2/blender-4.2.2-linux-x64.tar.xz\",\n",
    "}\n",
    "\n",
    "\n",
    "dl = dl_link[Blender_Version]\n",
    "filename = path_leaf(dl)\n",
    "\n",
    "if (Blender_Version == \"Blender 2.90alpha (expiremental)\"):\n",
    "  !wget $dl\n",
    "  !sudo apt-get install p7zip-full\n",
    "  !7z x $filename\n",
    "  !mv blender_290bM_e935447a5370-20200625-1857 blender\n",
    "\n",
    "\n",
    "\n",
    "else:\n",
    "  !wget -nc $dl\n",
    "  !mkdir ./blender && tar xf $filename -C ./blender --strip-components 1 --checkpoint=.1000\n",
    "\n",
    "\n",
    "# Download all the supporting libraries for Blender\n",
    "!sudo apt update -y\n",
    "!sudo apt upgrade -y\n",
    "\n",
    "!sudo apt-get install libxi6 libgconf-2-4 -y\n",
    "!sudo apt install libfontconfig1 libxrender1 -y\n",
    "!sudo apt install libboost-all-dev -y\n",
    "!sudo apt install libgl1-mesa-dev -y\n",
    "!sudo apt install libglu1-mesa libsm-dev libxkbcommon-x11-dev -y\n",
    "!sudo apt update -y\n",
    "!sudo apt upgrade -y\n",
    "\n",
    "# Monitoring Tools for GPU and CPU\n",
    "!pip3 install nvitop\n",
    "\n",
    "# Speedtest.net - internet performance testing for server (supported only for Ubuntu/Debian based VM/container)\n",
    "!sudo apt-get install curl\n",
    "!curl -s https://packagecloud.io/install/repositories/ookla/speedtest-cli/script.deb.sh | sudo bash\n",
    "!sudo apt-get install speedtest\n",
    "\n",
    "# Blender will use this to decide if it want to use GPU if available\n",
    "data = \"import re\\n\"+\\\n",
    "    \"import bpy\\n\"+\\\n",
    "    \"scene = bpy.context.scene\\n\"+\\\n",
    "    \"scene.cycles.device = 'GPU'\\n\"+\\\n",
    "    \"prefs = bpy.context.preferences\\n\"+\\\n",
    "    \"prefs.addons['cycles'].preferences.get_devices()\\n\"+\\\n",
    "    \"cprefs = prefs.addons['cycles'].preferences\\n\"+\\\n",
    "    \"print(cprefs)\\n\"+\\\n",
    "    \"# Attempt to set GPU device types if available\\n\"+\\\n",
    "    \"for compute_device_type in ('CUDA', 'OPENCL', 'NONE'):\\n\"+\\\n",
    "    \"    try:\\n\"+\\\n",
    "    \"        cprefs.compute_device_type = compute_device_type\\n\"+\\\n",
    "    \"        print('Device found',compute_device_type)\\n\"+\\\n",
    "    \"        break\\n\"+\\\n",
    "    \"    except TypeError:\\n\"+\\\n",
    "    \"        pass\\n\"+\\\n",
    "    \"# Enable all CPU and GPU devices\\n\"+\\\n",
    "    \"for device in cprefs.devices:\\n\"+\\\n",
    "    \"    if not re.match('intel', device.name, re.I):\\n\"+\\\n",
    "    \"        print('Activating',device)\\n\"+\\\n",
    "    \"        device.use = True\\n\"\n",
    "with open('setgpu.py', 'w') as f:\n",
    "    f.write(data)\n",
    "\n",
    "# Create output directory\n",
    "!mkdir output"
   ]
  },
  {
   "cell_type": "code",
   "execution_count": null,
   "metadata": {
    "id": "K5k1tDKNdB7c"
   },
   "outputs": [],
   "source": [
    "#Upload your blend file in /workspace diectory or simply drag and drop.\n",
    "# For single frame. The value -f represent frame value in a scene as mentioned below. Change it as per your suitability along with the file name\n",
    "!./blender/blender -P setgpu.py -b './YOUR_BLEND_FILE.blend' -o '/home/user/output/####.png' -f 1"
   ]
  },
  {
   "cell_type": "code",
   "execution_count": null,
   "metadata": {
    "id": "aqt-JG9vd2hE"
   },
   "outputs": [],
   "source": [
    "# For Multiples frame renders as PNG images. -s = starting frame value, -e = end frame value\n",
    "!./blender/blender -P setgpu.py -b './YOUR_BLEND_FILE.blend' -o '/home/user/output/####.png' -s 1 -e 5 -a"
   ]
  },
  {
   "cell_type": "code",
   "execution_count": null,
   "metadata": {},
   "outputs": [],
   "source": [
    "# Zipping the output folder\n",
    "!sudo apt install zip -y\n",
    "!zip -r Blender-output.zip output\n",
    "\n",
    "#Right click the Blender-output.zip file and click on download or copy sharable link. IF it doesn't appear immediately then wait for a while."
   ]
  }
 ],
 "metadata": {
  "accelerator": "GPU",
  "colab": {
   "private_outputs": true,
   "provenance": []
  },
  "kernelspec": {
   "display_name": "Python 3 (ipykernel)",
   "language": "python",
   "name": "python3"
  },
  "language_info": {
   "codemirror_mode": {
    "name": "ipython",
    "version": 3
   },
   "file_extension": ".py",
   "mimetype": "text/x-python",
   "name": "python",
   "nbconvert_exporter": "python",
   "pygments_lexer": "ipython3",
   "version": "3.10.11"
  }
 },
 "nbformat": 4,
 "nbformat_minor": 4
}
